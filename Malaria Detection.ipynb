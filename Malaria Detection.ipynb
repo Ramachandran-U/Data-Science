{
 "cells": [
  {
   "cell_type": "code",
   "execution_count": 1,
   "metadata": {},
   "outputs": [],
   "source": [
    "from tensorflow.keras.layers import Input, Lambda, Dense, Flatten, Conv2D\n",
    "from tensorflow.keras.models import Model\n",
    "from tensorflow.keras.applications.vgg19 import VGG19\n",
    "from tensorflow.keras.applications.resnet50 import preprocess_input\n",
    "from tensorflow.keras.preprocessing import image\n",
    "from tensorflow.keras.preprocessing.image import ImageDataGenerator, load_img\n",
    "from tensorflow.keras.models import Sequential\n",
    "import numpy as np\n",
    "from glob import glob\n",
    "import matplotlib.pyplot as plt"
   ]
  },
  {
   "cell_type": "code",
   "execution_count": 3,
   "metadata": {},
   "outputs": [],
   "source": [
    "image_size = [224,224]\n",
    "\n",
    "train_path = 'Dataset/Train'\n",
    "test_path = 'Dataset/Test'"
   ]
  },
  {
   "cell_type": "code",
   "execution_count": 4,
   "metadata": {},
   "outputs": [],
   "source": [
    "mobilenet = VGG19(input_shape = image_size+[3], weights = 'imagenet', include_top=False)"
   ]
  },
  {
   "cell_type": "code",
   "execution_count": 5,
   "metadata": {},
   "outputs": [],
   "source": [
    "for layer in mobilenet.layers:\n",
    "    layer.trainable = False"
   ]
  },
  {
   "cell_type": "code",
   "execution_count": 6,
   "metadata": {},
   "outputs": [],
   "source": [
    "folders = glob('Dataset/Train/*')"
   ]
  },
  {
   "cell_type": "code",
   "execution_count": 7,
   "metadata": {},
   "outputs": [
    {
     "data": {
      "text/plain": [
       "['Dataset/Train\\\\Parasite', 'Dataset/Train\\\\Uninfected']"
      ]
     },
     "execution_count": 7,
     "metadata": {},
     "output_type": "execute_result"
    }
   ],
   "source": [
    "folders"
   ]
  },
  {
   "cell_type": "code",
   "execution_count": 8,
   "metadata": {},
   "outputs": [],
   "source": [
    "x = Flatten()(mobilenet.output)"
   ]
  },
  {
   "cell_type": "code",
   "execution_count": 9,
   "metadata": {},
   "outputs": [],
   "source": [
    "prediction = Dense(len(folders), activation = 'softmax')(x)\n",
    "\n",
    "model = Model(inputs = mobilenet.input, outputs= prediction)"
   ]
  },
  {
   "cell_type": "code",
   "execution_count": 10,
   "metadata": {},
   "outputs": [
    {
     "name": "stdout",
     "output_type": "stream",
     "text": [
      "Model: \"model\"\n",
      "_________________________________________________________________\n",
      "Layer (type)                 Output Shape              Param #   \n",
      "=================================================================\n",
      "input_1 (InputLayer)         [(None, 224, 224, 3)]     0         \n",
      "_________________________________________________________________\n",
      "block1_conv1 (Conv2D)        (None, 224, 224, 64)      1792      \n",
      "_________________________________________________________________\n",
      "block1_conv2 (Conv2D)        (None, 224, 224, 64)      36928     \n",
      "_________________________________________________________________\n",
      "block1_pool (MaxPooling2D)   (None, 112, 112, 64)      0         \n",
      "_________________________________________________________________\n",
      "block2_conv1 (Conv2D)        (None, 112, 112, 128)     73856     \n",
      "_________________________________________________________________\n",
      "block2_conv2 (Conv2D)        (None, 112, 112, 128)     147584    \n",
      "_________________________________________________________________\n",
      "block2_pool (MaxPooling2D)   (None, 56, 56, 128)       0         \n",
      "_________________________________________________________________\n",
      "block3_conv1 (Conv2D)        (None, 56, 56, 256)       295168    \n",
      "_________________________________________________________________\n",
      "block3_conv2 (Conv2D)        (None, 56, 56, 256)       590080    \n",
      "_________________________________________________________________\n",
      "block3_conv3 (Conv2D)        (None, 56, 56, 256)       590080    \n",
      "_________________________________________________________________\n",
      "block3_conv4 (Conv2D)        (None, 56, 56, 256)       590080    \n",
      "_________________________________________________________________\n",
      "block3_pool (MaxPooling2D)   (None, 28, 28, 256)       0         \n",
      "_________________________________________________________________\n",
      "block4_conv1 (Conv2D)        (None, 28, 28, 512)       1180160   \n",
      "_________________________________________________________________\n",
      "block4_conv2 (Conv2D)        (None, 28, 28, 512)       2359808   \n",
      "_________________________________________________________________\n",
      "block4_conv3 (Conv2D)        (None, 28, 28, 512)       2359808   \n",
      "_________________________________________________________________\n",
      "block4_conv4 (Conv2D)        (None, 28, 28, 512)       2359808   \n",
      "_________________________________________________________________\n",
      "block4_pool (MaxPooling2D)   (None, 14, 14, 512)       0         \n",
      "_________________________________________________________________\n",
      "block5_conv1 (Conv2D)        (None, 14, 14, 512)       2359808   \n",
      "_________________________________________________________________\n",
      "block5_conv2 (Conv2D)        (None, 14, 14, 512)       2359808   \n",
      "_________________________________________________________________\n",
      "block5_conv3 (Conv2D)        (None, 14, 14, 512)       2359808   \n",
      "_________________________________________________________________\n",
      "block5_conv4 (Conv2D)        (None, 14, 14, 512)       2359808   \n",
      "_________________________________________________________________\n",
      "block5_pool (MaxPooling2D)   (None, 7, 7, 512)         0         \n",
      "_________________________________________________________________\n",
      "flatten (Flatten)            (None, 25088)             0         \n",
      "_________________________________________________________________\n",
      "dense (Dense)                (None, 2)                 50178     \n",
      "=================================================================\n",
      "Total params: 20,074,562\n",
      "Trainable params: 50,178\n",
      "Non-trainable params: 20,024,384\n",
      "_________________________________________________________________\n"
     ]
    }
   ],
   "source": [
    "model.summary()"
   ]
  },
  {
   "cell_type": "code",
   "execution_count": 11,
   "metadata": {},
   "outputs": [],
   "source": [
    "from tensorflow.keras.layers import MaxPooling2D"
   ]
  },
  {
   "cell_type": "code",
   "execution_count": 12,
   "metadata": {},
   "outputs": [
    {
     "name": "stdout",
     "output_type": "stream",
     "text": [
      "Model: \"sequential\"\n",
      "_________________________________________________________________\n",
      "Layer (type)                 Output Shape              Param #   \n",
      "=================================================================\n",
      "conv2d (Conv2D)              (None, 224, 224, 16)      208       \n",
      "_________________________________________________________________\n",
      "max_pooling2d (MaxPooling2D) (None, 112, 112, 16)      0         \n",
      "_________________________________________________________________\n",
      "conv2d_1 (Conv2D)            (None, 112, 112, 32)      2080      \n",
      "_________________________________________________________________\n",
      "max_pooling2d_1 (MaxPooling2 (None, 56, 56, 32)        0         \n",
      "_________________________________________________________________\n",
      "conv2d_2 (Conv2D)            (None, 56, 56, 64)        8256      \n",
      "_________________________________________________________________\n",
      "max_pooling2d_2 (MaxPooling2 (None, 28, 28, 64)        0         \n",
      "_________________________________________________________________\n",
      "flatten_1 (Flatten)          (None, 50176)             0         \n",
      "_________________________________________________________________\n",
      "dense_1 (Dense)              (None, 500)               25088500  \n",
      "_________________________________________________________________\n",
      "dense_2 (Dense)              (None, 2)                 1002      \n",
      "=================================================================\n",
      "Total params: 25,100,046\n",
      "Trainable params: 25,100,046\n",
      "Non-trainable params: 0\n",
      "_________________________________________________________________\n"
     ]
    }
   ],
   "source": [
    "model=Sequential()\n",
    "model.add(Conv2D(filters=16,kernel_size=2,padding=\"same\",activation=\"relu\",input_shape=(224,224,3)))\n",
    "model.add(MaxPooling2D(pool_size=2))\n",
    "model.add(Conv2D(filters=32,kernel_size=2,padding=\"same\",activation =\"relu\"))\n",
    "model.add(MaxPooling2D(pool_size=2))\n",
    "model.add(Conv2D(filters=64,kernel_size=2,padding=\"same\",activation=\"relu\"))\n",
    "model.add(MaxPooling2D(pool_size=2))\n",
    "model.add(Flatten())\n",
    "model.add(Dense(500,activation=\"relu\"))\n",
    "model.add(Dense(2,activation=\"softmax\"))\n",
    "model.summary()"
   ]
  },
  {
   "cell_type": "code",
   "execution_count": 13,
   "metadata": {},
   "outputs": [],
   "source": [
    "model.compile(\n",
    "    loss='categorical_crossentropy',\n",
    "    optimizer='adam',\n",
    "    metrics=['accuracy'])"
   ]
  },
  {
   "cell_type": "code",
   "execution_count": 14,
   "metadata": {},
   "outputs": [],
   "source": [
    "from tensorflow.keras.preprocessing.image import ImageDataGenerator\n",
    "\n",
    "train_datagen = ImageDataGenerator(rescale = 1./255,\n",
    "                                   shear_range = 0.2,\n",
    "                                   zoom_range = 0.2,\n",
    "                                   horizontal_flip = True)\n",
    "\n",
    "test_datagen = ImageDataGenerator(rescale = 1./255)"
   ]
  },
  {
   "cell_type": "code",
   "execution_count": 15,
   "metadata": {},
   "outputs": [
    {
     "name": "stdout",
     "output_type": "stream",
     "text": [
      "Found 416 images belonging to 2 classes.\n"
     ]
    }
   ],
   "source": [
    "training_set = train_datagen.flow_from_directory('Dataset/Train',\n",
    "                                                 target_size = (224, 224),\n",
    "                                                 batch_size = 32,\n",
    "                                                 class_mode = 'categorical')"
   ]
  },
  {
   "cell_type": "code",
   "execution_count": 16,
   "metadata": {},
   "outputs": [
    {
     "name": "stdout",
     "output_type": "stream",
     "text": [
      "Found 134 images belonging to 2 classes.\n"
     ]
    }
   ],
   "source": [
    "test_set = test_datagen.flow_from_directory('Dataset/Test',\n",
    "                                            target_size = (224, 224),\n",
    "                                            batch_size = 32,\n",
    "                                            class_mode = 'categorical')"
   ]
  },
  {
   "cell_type": "code",
   "execution_count": 17,
   "metadata": {},
   "outputs": [
    {
     "name": "stdout",
     "output_type": "stream",
     "text": [
      "WARNING:tensorflow:sample_weight modes were coerced from\n",
      "  ...\n",
      "    to  \n",
      "  ['...']\n",
      "WARNING:tensorflow:sample_weight modes were coerced from\n",
      "  ...\n",
      "    to  \n",
      "  ['...']\n",
      "Train for 13 steps, validate for 5 steps\n",
      "Epoch 1/50\n",
      "13/13 [==============================] - 7s 519ms/step - loss: 1.4918 - accuracy: 0.4928 - val_loss: 0.6276 - val_accuracy: 0.6791\n",
      "Epoch 2/50\n",
      "13/13 [==============================] - 4s 294ms/step - loss: 0.6963 - accuracy: 0.5457 - val_loss: 0.6792 - val_accuracy: 0.6716\n",
      "Epoch 3/50\n",
      "13/13 [==============================] - 4s 295ms/step - loss: 0.6780 - accuracy: 0.6058 - val_loss: 0.6718 - val_accuracy: 0.5970\n",
      "Epoch 4/50\n",
      "13/13 [==============================] - 4s 304ms/step - loss: 0.6458 - accuracy: 0.6178 - val_loss: 0.7930 - val_accuracy: 0.4328\n",
      "Epoch 5/50\n",
      "13/13 [==============================] - 4s 297ms/step - loss: 0.5899 - accuracy: 0.6923 - val_loss: 0.7665 - val_accuracy: 0.4478\n",
      "Epoch 6/50\n",
      "13/13 [==============================] - 4s 295ms/step - loss: 0.5044 - accuracy: 0.7356 - val_loss: 0.7712 - val_accuracy: 0.5522\n",
      "Epoch 7/50\n",
      "13/13 [==============================] - 4s 298ms/step - loss: 0.4141 - accuracy: 0.8197 - val_loss: 0.7601 - val_accuracy: 0.5448\n",
      "Epoch 8/50\n",
      "13/13 [==============================] - 4s 296ms/step - loss: 0.3450 - accuracy: 0.8510 - val_loss: 0.7721 - val_accuracy: 0.5970\n",
      "Epoch 9/50\n",
      "13/13 [==============================] - 4s 303ms/step - loss: 0.3160 - accuracy: 0.8534 - val_loss: 0.5842 - val_accuracy: 0.6493\n",
      "Epoch 10/50\n",
      "13/13 [==============================] - 4s 294ms/step - loss: 0.3000 - accuracy: 0.8798 - val_loss: 0.5711 - val_accuracy: 0.6866\n",
      "Epoch 11/50\n",
      "13/13 [==============================] - 4s 321ms/step - loss: 0.2735 - accuracy: 0.9038 - val_loss: 0.6276 - val_accuracy: 0.6866\n",
      "Epoch 12/50\n",
      "13/13 [==============================] - 4s 309ms/step - loss: 0.2431 - accuracy: 0.9231 - val_loss: 0.3749 - val_accuracy: 0.8582\n",
      "Epoch 13/50\n",
      "13/13 [==============================] - 4s 330ms/step - loss: 0.2153 - accuracy: 0.9183 - val_loss: 0.3234 - val_accuracy: 0.8731\n",
      "Epoch 14/50\n",
      "13/13 [==============================] - 4s 313ms/step - loss: 0.1668 - accuracy: 0.9543 - val_loss: 0.5633 - val_accuracy: 0.7910\n",
      "Epoch 15/50\n",
      "13/13 [==============================] - 4s 301ms/step - loss: 0.1765 - accuracy: 0.9375 - val_loss: 0.4500 - val_accuracy: 0.8060\n",
      "Epoch 16/50\n",
      "13/13 [==============================] - 4s 297ms/step - loss: 0.2196 - accuracy: 0.9255 - val_loss: 0.3848 - val_accuracy: 0.8433\n",
      "Epoch 17/50\n",
      "13/13 [==============================] - 4s 302ms/step - loss: 0.1433 - accuracy: 0.9591 - val_loss: 0.5538 - val_accuracy: 0.8284\n",
      "Epoch 18/50\n",
      "13/13 [==============================] - 4s 299ms/step - loss: 0.1503 - accuracy: 0.9567 - val_loss: 0.4480 - val_accuracy: 0.8358\n",
      "Epoch 19/50\n",
      "13/13 [==============================] - 4s 303ms/step - loss: 0.1324 - accuracy: 0.9615 - val_loss: 0.3201 - val_accuracy: 0.8582\n",
      "Epoch 20/50\n",
      "13/13 [==============================] - 4s 301ms/step - loss: 0.1016 - accuracy: 0.9567 - val_loss: 0.2955 - val_accuracy: 0.8955\n",
      "Epoch 21/50\n",
      "13/13 [==============================] - 4s 301ms/step - loss: 0.0778 - accuracy: 0.9808 - val_loss: 0.4212 - val_accuracy: 0.8582\n",
      "Epoch 22/50\n",
      "13/13 [==============================] - 4s 300ms/step - loss: 0.0731 - accuracy: 0.9832 - val_loss: 0.3151 - val_accuracy: 0.9104\n",
      "Epoch 23/50\n",
      "13/13 [==============================] - 4s 308ms/step - loss: 0.1547 - accuracy: 0.9567 - val_loss: 0.2287 - val_accuracy: 0.9030\n",
      "Epoch 24/50\n",
      "13/13 [==============================] - 4s 319ms/step - loss: 0.1086 - accuracy: 0.9736 - val_loss: 0.4278 - val_accuracy: 0.8731\n",
      "Epoch 25/50\n",
      "13/13 [==============================] - 4s 303ms/step - loss: 0.1919 - accuracy: 0.9399 - val_loss: 0.5322 - val_accuracy: 0.7313\n",
      "Epoch 26/50\n",
      "13/13 [==============================] - 4s 307ms/step - loss: 0.2286 - accuracy: 0.9183 - val_loss: 0.4360 - val_accuracy: 0.7910\n",
      "Epoch 27/50\n",
      "13/13 [==============================] - 4s 304ms/step - loss: 0.1866 - accuracy: 0.9207 - val_loss: 0.3762 - val_accuracy: 0.8582\n",
      "Epoch 28/50\n",
      "13/13 [==============================] - 4s 310ms/step - loss: 0.1091 - accuracy: 0.9615 - val_loss: 0.2313 - val_accuracy: 0.9254\n",
      "Epoch 29/50\n",
      "13/13 [==============================] - 4s 303ms/step - loss: 0.0972 - accuracy: 0.9688 - val_loss: 0.3686 - val_accuracy: 0.8731\n",
      "Epoch 30/50\n",
      "13/13 [==============================] - 4s 312ms/step - loss: 0.0629 - accuracy: 0.9856 - val_loss: 0.2510 - val_accuracy: 0.9254\n",
      "Epoch 31/50\n",
      "13/13 [==============================] - 4s 304ms/step - loss: 0.0950 - accuracy: 0.9663 - val_loss: 0.2276 - val_accuracy: 0.9179\n",
      "Epoch 32/50\n",
      "13/13 [==============================] - 4s 308ms/step - loss: 0.0740 - accuracy: 0.9928 - val_loss: 0.3788 - val_accuracy: 0.8806\n",
      "Epoch 33/50\n",
      "13/13 [==============================] - 4s 304ms/step - loss: 0.0927 - accuracy: 0.9639 - val_loss: 0.2081 - val_accuracy: 0.9254\n",
      "Epoch 34/50\n",
      "13/13 [==============================] - 4s 305ms/step - loss: 0.0749 - accuracy: 0.9832 - val_loss: 0.4460 - val_accuracy: 0.8657\n",
      "Epoch 35/50\n",
      "13/13 [==============================] - 4s 305ms/step - loss: 0.1115 - accuracy: 0.9591 - val_loss: 0.2455 - val_accuracy: 0.9030\n",
      "Epoch 36/50\n",
      "13/13 [==============================] - 4s 304ms/step - loss: 0.0583 - accuracy: 0.9856 - val_loss: 0.2266 - val_accuracy: 0.9552\n",
      "Epoch 37/50\n",
      "13/13 [==============================] - 4s 309ms/step - loss: 0.0582 - accuracy: 0.9832 - val_loss: 0.4776 - val_accuracy: 0.8657\n",
      "Epoch 38/50\n",
      "13/13 [==============================] - 4s 307ms/step - loss: 0.0597 - accuracy: 0.9856 - val_loss: 0.1762 - val_accuracy: 0.9403\n",
      "Epoch 39/50\n",
      "13/13 [==============================] - 4s 317ms/step - loss: 0.0700 - accuracy: 0.9856 - val_loss: 0.5520 - val_accuracy: 0.8582\n",
      "Epoch 40/50\n",
      "13/13 [==============================] - 4s 308ms/step - loss: 0.0959 - accuracy: 0.9760 - val_loss: 0.4562 - val_accuracy: 0.8657\n",
      "Epoch 41/50\n",
      "13/13 [==============================] - 4s 306ms/step - loss: 0.1064 - accuracy: 0.9832 - val_loss: 0.5732 - val_accuracy: 0.8657\n",
      "Epoch 42/50\n",
      "13/13 [==============================] - 4s 306ms/step - loss: 0.0823 - accuracy: 0.9760 - val_loss: 0.2780 - val_accuracy: 0.9030\n",
      "Epoch 43/50\n",
      "13/13 [==============================] - 4s 306ms/step - loss: 0.0436 - accuracy: 0.9928 - val_loss: 0.3647 - val_accuracy: 0.9179\n",
      "Epoch 44/50\n",
      "13/13 [==============================] - 4s 307ms/step - loss: 0.0295 - accuracy: 0.9952 - val_loss: 0.2180 - val_accuracy: 0.9478\n",
      "Epoch 45/50\n",
      "13/13 [==============================] - 4s 310ms/step - loss: 0.0389 - accuracy: 0.9928 - val_loss: 0.4845 - val_accuracy: 0.8881\n",
      "Epoch 46/50\n",
      "13/13 [==============================] - 4s 310ms/step - loss: 0.0528 - accuracy: 0.9856 - val_loss: 0.3005 - val_accuracy: 0.8955\n",
      "Epoch 47/50\n",
      "13/13 [==============================] - 4s 306ms/step - loss: 0.0413 - accuracy: 0.9904 - val_loss: 0.1842 - val_accuracy: 0.9254\n",
      "Epoch 48/50\n",
      "13/13 [==============================] - 4s 307ms/step - loss: 0.0526 - accuracy: 0.9904 - val_loss: 0.5445 - val_accuracy: 0.8657\n",
      "Epoch 49/50\n",
      "13/13 [==============================] - 4s 314ms/step - loss: 0.0467 - accuracy: 0.9928 - val_loss: 0.1936 - val_accuracy: 0.9254\n",
      "Epoch 50/50\n",
      "13/13 [==============================] - 4s 313ms/step - loss: 0.0699 - accuracy: 0.9928 - val_loss: 0.5016 - val_accuracy: 0.8731\n"
     ]
    }
   ],
   "source": [
    "# fit the model\n",
    "# Run the cell. It will take some time to execute\n",
    "r = model.fit(\n",
    "  training_set,\n",
    "  validation_data=test_set,\n",
    "  epochs=50,\n",
    "  steps_per_epoch=len(training_set),\n",
    "  validation_steps=len(test_set)\n",
    ")"
   ]
  },
  {
   "cell_type": "code",
   "execution_count": 18,
   "metadata": {
    "scrolled": true
   },
   "outputs": [
    {
     "data": {
      "image/png": "[encoded data removed]",
      "text/plain": [
       "<Figure size 432x288 with 1 Axes>"
      ]
     },
     "metadata": {
      "needs_background": "light"
     },
     "output_type": "display_data"
    },
    {
     "data": {
      "image/png": "[encoded data removed]",
      "text/plain": [
       "<Figure size 432x288 with 1 Axes>"
      ]
     },
     "metadata": {
      "needs_background": "light"
     },
     "output_type": "display_data"
    },
    {
     "data": {
      "text/plain": [
       "<Figure size 432x288 with 0 Axes>"
      ]
     },
     "metadata": {},
     "output_type": "display_data"
    }
   ],
   "source": [
    "# plot the loss\n",
    "plt.plot(r.history['loss'], label='train loss')\n",
    "plt.plot(r.history['val_loss'], label='val loss')\n",
    "plt.legend()\n",
    "plt.show()\n",
    "plt.savefig('LossVal_loss')\n",
    "\n",
    "# plot the accuracy\n",
    "plt.plot(r.history['accuracy'], label='train acc')\n",
    "plt.plot(r.history['val_accuracy'], label='val acc')\n",
    "plt.legend()\n",
    "plt.show()\n",
    "plt.savefig('AccVal_acc')"
   ]
  },
  {
   "cell_type": "code",
   "execution_count": null,
   "metadata": {},
   "outputs": [],
   "source": []
  }
 ],
 "metadata": {
  "kernelspec": {
   "display_name": "Python 3",
   "language": "python",
   "name": "python3"
  },
  "language_info": {
   "codemirror_mode": {
    "name": "ipython",
    "version": 3
   },
   "file_extension": ".py",
   "mimetype": "text/x-python",
   "name": "python",
   "nbconvert_exporter": "python",
   "pygments_lexer": "ipython3",
   "version": "3.7.3"
  }
 },
 "nbformat": 4,
 "nbformat_minor": 2
}
