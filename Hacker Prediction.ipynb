{
 "cells": [
  {
   "cell_type": "code",
   "execution_count": 1,
   "metadata": {},
   "outputs": [],
   "source": [
    "import numpy as np\n",
    "import pandas as pd\n",
    "import matplotlib.pyplot as plt\n",
    "import seaborn as sns\n",
    "\n",
    "import warnings\n",
    "warnings.filterwarnings('ignore')"
   ]
  },
  {
   "cell_type": "code",
   "execution_count": 2,
   "metadata": {},
   "outputs": [
    {
     "data": {
      "text/html": [
       "<div>\n",
       "<style scoped>\n",
       "    .dataframe tbody tr th:only-of-type {\n",
       "        vertical-align: middle;\n",
       "    }\n",
       "\n",
       "    .dataframe tbody tr th {\n",
       "        vertical-align: top;\n",
       "    }\n",
       "\n",
       "    .dataframe thead th {\n",
       "        text-align: right;\n",
       "    }\n",
       "</style>\n",
       "<table border=\"1\" class=\"dataframe\">\n",
       "  <thead>\n",
       "    <tr style=\"text-align: right;\">\n",
       "      <th></th>\n",
       "      <th>INCIDENT_ID</th>\n",
       "      <th>DATE</th>\n",
       "      <th>X_1</th>\n",
       "      <th>X_2</th>\n",
       "      <th>X_3</th>\n",
       "      <th>X_4</th>\n",
       "      <th>X_5</th>\n",
       "      <th>X_6</th>\n",
       "      <th>X_7</th>\n",
       "      <th>X_8</th>\n",
       "      <th>X_9</th>\n",
       "      <th>X_10</th>\n",
       "      <th>X_11</th>\n",
       "      <th>X_12</th>\n",
       "      <th>X_13</th>\n",
       "      <th>X_14</th>\n",
       "      <th>X_15</th>\n",
       "      <th>MULTIPLE_OFFENSE</th>\n",
       "    </tr>\n",
       "  </thead>\n",
       "  <tbody>\n",
       "    <tr>\n",
       "      <th>0</th>\n",
       "      <td>CR_102659</td>\n",
       "      <td>04-JUL-04</td>\n",
       "      <td>0</td>\n",
       "      <td>36</td>\n",
       "      <td>34</td>\n",
       "      <td>2</td>\n",
       "      <td>1</td>\n",
       "      <td>5</td>\n",
       "      <td>6</td>\n",
       "      <td>1</td>\n",
       "      <td>6</td>\n",
       "      <td>1</td>\n",
       "      <td>174</td>\n",
       "      <td>1.0</td>\n",
       "      <td>92</td>\n",
       "      <td>29</td>\n",
       "      <td>36</td>\n",
       "      <td>0</td>\n",
       "    </tr>\n",
       "    <tr>\n",
       "      <th>1</th>\n",
       "      <td>CR_189752</td>\n",
       "      <td>18-JUL-17</td>\n",
       "      <td>1</td>\n",
       "      <td>37</td>\n",
       "      <td>37</td>\n",
       "      <td>0</td>\n",
       "      <td>0</td>\n",
       "      <td>11</td>\n",
       "      <td>17</td>\n",
       "      <td>1</td>\n",
       "      <td>6</td>\n",
       "      <td>1</td>\n",
       "      <td>236</td>\n",
       "      <td>1.0</td>\n",
       "      <td>103</td>\n",
       "      <td>142</td>\n",
       "      <td>34</td>\n",
       "      <td>1</td>\n",
       "    </tr>\n",
       "    <tr>\n",
       "      <th>2</th>\n",
       "      <td>CR_184637</td>\n",
       "      <td>15-MAR-17</td>\n",
       "      <td>0</td>\n",
       "      <td>3</td>\n",
       "      <td>2</td>\n",
       "      <td>3</td>\n",
       "      <td>5</td>\n",
       "      <td>1</td>\n",
       "      <td>0</td>\n",
       "      <td>2</td>\n",
       "      <td>3</td>\n",
       "      <td>1</td>\n",
       "      <td>174</td>\n",
       "      <td>1.0</td>\n",
       "      <td>110</td>\n",
       "      <td>93</td>\n",
       "      <td>34</td>\n",
       "      <td>1</td>\n",
       "    </tr>\n",
       "    <tr>\n",
       "      <th>3</th>\n",
       "      <td>CR_139071</td>\n",
       "      <td>13-FEB-09</td>\n",
       "      <td>0</td>\n",
       "      <td>33</td>\n",
       "      <td>32</td>\n",
       "      <td>2</td>\n",
       "      <td>1</td>\n",
       "      <td>7</td>\n",
       "      <td>1</td>\n",
       "      <td>1</td>\n",
       "      <td>6</td>\n",
       "      <td>1</td>\n",
       "      <td>249</td>\n",
       "      <td>1.0</td>\n",
       "      <td>72</td>\n",
       "      <td>29</td>\n",
       "      <td>34</td>\n",
       "      <td>1</td>\n",
       "    </tr>\n",
       "    <tr>\n",
       "      <th>4</th>\n",
       "      <td>CR_109335</td>\n",
       "      <td>13-APR-05</td>\n",
       "      <td>0</td>\n",
       "      <td>33</td>\n",
       "      <td>32</td>\n",
       "      <td>2</td>\n",
       "      <td>1</td>\n",
       "      <td>8</td>\n",
       "      <td>3</td>\n",
       "      <td>0</td>\n",
       "      <td>5</td>\n",
       "      <td>1</td>\n",
       "      <td>174</td>\n",
       "      <td>0.0</td>\n",
       "      <td>112</td>\n",
       "      <td>29</td>\n",
       "      <td>43</td>\n",
       "      <td>1</td>\n",
       "    </tr>\n",
       "  </tbody>\n",
       "</table>\n",
       "</div>"
      ],
      "text/plain": [
       "  INCIDENT_ID       DATE  X_1  X_2  X_3  X_4  X_5  X_6  X_7  X_8  X_9  X_10  \\\n",
       "0   CR_102659  04-JUL-04    0   36   34    2    1    5    6    1    6     1   \n",
       "1   CR_189752  18-JUL-17    1   37   37    0    0   11   17    1    6     1   \n",
       "2   CR_184637  15-MAR-17    0    3    2    3    5    1    0    2    3     1   \n",
       "3   CR_139071  13-FEB-09    0   33   32    2    1    7    1    1    6     1   \n",
       "4   CR_109335  13-APR-05    0   33   32    2    1    8    3    0    5     1   \n",
       "\n",
       "   X_11  X_12  X_13  X_14  X_15  MULTIPLE_OFFENSE  \n",
       "0   174   1.0    92    29    36                 0  \n",
       "1   236   1.0   103   142    34                 1  \n",
       "2   174   1.0   110    93    34                 1  \n",
       "3   249   1.0    72    29    34                 1  \n",
       "4   174   0.0   112    29    43                 1  "
      ]
     },
     "execution_count": 2,
     "metadata": {},
     "output_type": "execute_result"
    }
   ],
   "source": [
    "df = pd.read_csv('Train.csv')\n",
    "df.head()"
   ]
  },
  {
   "cell_type": "code",
   "execution_count": 3,
   "metadata": {},
   "outputs": [
    {
     "name": "stdout",
     "output_type": "stream",
     "text": [
      "<class 'pandas.core.frame.DataFrame'>\n",
      "RangeIndex: 23856 entries, 0 to 23855\n",
      "Data columns (total 18 columns):\n",
      "INCIDENT_ID         23856 non-null object\n",
      "DATE                23856 non-null object\n",
      "X_1                 23856 non-null int64\n",
      "X_2                 23856 non-null int64\n",
      "X_3                 23856 non-null int64\n",
      "X_4                 23856 non-null int64\n",
      "X_5                 23856 non-null int64\n",
      "X_6                 23856 non-null int64\n",
      "X_7                 23856 non-null int64\n",
      "X_8                 23856 non-null int64\n",
      "X_9                 23856 non-null int64\n",
      "X_10                23856 non-null int64\n",
      "X_11                23856 non-null int64\n",
      "X_12                23674 non-null float64\n",
      "X_13                23856 non-null int64\n",
      "X_14                23856 non-null int64\n",
      "X_15                23856 non-null int64\n",
      "MULTIPLE_OFFENSE    23856 non-null int64\n",
      "dtypes: float64(1), int64(15), object(2)\n",
      "memory usage: 3.3+ MB\n"
     ]
    }
   ],
   "source": [
    "df.info()"
   ]
  },
  {
   "cell_type": "code",
   "execution_count": 4,
   "metadata": {},
   "outputs": [
    {
     "data": {
      "text/plain": [
       "INCIDENT_ID         0.000000\n",
       "DATE                0.000000\n",
       "X_1                 0.000000\n",
       "X_2                 0.000000\n",
       "X_3                 0.000000\n",
       "X_4                 0.000000\n",
       "X_5                 0.000000\n",
       "X_6                 0.000000\n",
       "X_7                 0.000000\n",
       "X_8                 0.000000\n",
       "X_9                 0.000000\n",
       "X_10                0.000000\n",
       "X_11                0.000000\n",
       "X_12                0.007629\n",
       "X_13                0.000000\n",
       "X_14                0.000000\n",
       "X_15                0.000000\n",
       "MULTIPLE_OFFENSE    0.000000\n",
       "dtype: float64"
      ]
     },
     "execution_count": 4,
     "metadata": {},
     "output_type": "execute_result"
    }
   ],
   "source": [
    "df.isnull().sum()/len(df)"
   ]
  },
  {
   "cell_type": "code",
   "execution_count": 5,
   "metadata": {},
   "outputs": [],
   "source": [
    "# Since the features of data are unkown, we cannot do much eda of this dataset"
   ]
  },
  {
   "cell_type": "code",
   "execution_count": 6,
   "metadata": {},
   "outputs": [
    {
     "data": {
      "text/plain": [
       "<matplotlib.axes._subplots.AxesSubplot at 0x175a8cc4390>"
      ]
     },
     "execution_count": 6,
     "metadata": {},
     "output_type": "execute_result"
    },
    {
     "data": {
      "image/png": "[encoded data removed]",
      "text/plain": [
       "<Figure size 1080x1080 with 2 Axes>"
      ]
     },
     "metadata": {
      "needs_background": "light"
     },
     "output_type": "display_data"
    }
   ],
   "source": [
    "mask_ut=np.triu(np.ones(df.corr().shape)).astype(np.bool)\n",
    "plt.figure(figsize=(15,15))\n",
    "sns.heatmap(df.corr(), annot=True, fmt = '.2f', mask=mask_ut, cmap=\"magma\")"
   ]
  },
  {
   "cell_type": "code",
   "execution_count": 7,
   "metadata": {},
   "outputs": [
    {
     "data": {
      "text/plain": [
       "<matplotlib.axes._subplots.AxesSubplot at 0x175a99f5860>"
      ]
     },
     "execution_count": 7,
     "metadata": {},
     "output_type": "execute_result"
    },
    {
     "data": {
      "image/png": "[encoded data removed]",
      "text/plain": [
       "<Figure size 432x288 with 1 Axes>"
      ]
     },
     "metadata": {
      "needs_background": "light"
     },
     "output_type": "display_data"
    }
   ],
   "source": [
    "sns.distplot(df.X_12)"
   ]
  },
  {
   "cell_type": "code",
   "execution_count": 8,
   "metadata": {},
   "outputs": [
    {
     "data": {
      "text/plain": [
       "<matplotlib.axes._subplots.AxesSubplot at 0x175a9537a90>"
      ]
     },
     "execution_count": 8,
     "metadata": {},
     "output_type": "execute_result"
    },
    {
     "data": {
      "image/png": "[encoded data removed]",
      "text/plain": [
       "<Figure size 432x288 with 1 Axes>"
      ]
     },
     "metadata": {
      "needs_background": "light"
     },
     "output_type": "display_data"
    }
   ],
   "source": [
    "sns.countplot(df.MULTIPLE_OFFENSE)"
   ]
  },
  {
   "cell_type": "code",
   "execution_count": 9,
   "metadata": {},
   "outputs": [
    {
     "data": {
      "text/plain": [
       "1    0.955231\n",
       "0    0.044769\n",
       "Name: MULTIPLE_OFFENSE, dtype: float64"
      ]
     },
     "execution_count": 9,
     "metadata": {},
     "output_type": "execute_result"
    }
   ],
   "source": [
    "df['MULTIPLE_OFFENSE'].value_counts()/len(df)"
   ]
  },
  {
   "cell_type": "code",
   "execution_count": 10,
   "metadata": {},
   "outputs": [],
   "source": [
    "# It's an imbalanced dataset"
   ]
  },
  {
   "cell_type": "code",
   "execution_count": 11,
   "metadata": {},
   "outputs": [],
   "source": [
    "df['X_12'] = df['X_12'].replace(np.nan, df['X_12'].mode()[0])"
   ]
  },
  {
   "cell_type": "code",
   "execution_count": 12,
   "metadata": {},
   "outputs": [],
   "source": [
    "from sklearn.model_selection import train_test_split \n",
    "from sklearn.preprocessing import OneHotEncoder\n",
    "from sklearn.preprocessing import LabelEncoder"
   ]
  },
  {
   "cell_type": "code",
   "execution_count": 13,
   "metadata": {},
   "outputs": [],
   "source": [
    "cat_cols = df.select_dtypes(include='O')\n",
    "\n",
    "le = LabelEncoder()\n",
    "\n",
    "for i in cat_cols:\n",
    "    df[i] = le.fit_transform(df[i])\n"
   ]
  },
  {
   "cell_type": "code",
   "execution_count": 14,
   "metadata": {},
   "outputs": [],
   "source": [
    "X = df.drop('MULTIPLE_OFFENSE', axis=1)\n",
    "y = df['MULTIPLE_OFFENSE']"
   ]
  },
  {
   "cell_type": "code",
   "execution_count": 15,
   "metadata": {},
   "outputs": [],
   "source": [
    "X_valid = pd.read_csv('Test.csv')\n",
    "X_valid['X_12'] = X_valid['X_12'].replace(np.nan, X_valid['X_12'].mode()[0])\n",
    "X_valid['DATE'] = le.fit_transform(X_valid['DATE'])\n",
    "X_valid['INCIDENT_ID'] = le.fit_transform(X_valid['INCIDENT_ID'])\n",
    "\n",
    "idd = X_valid.copy()"
   ]
  },
  {
   "cell_type": "code",
   "execution_count": 16,
   "metadata": {},
   "outputs": [],
   "source": [
    "X_train, X_test,y_train, y_test = train_test_split(X,y, test_size=0.3, stratify=df['MULTIPLE_OFFENSE'])"
   ]
  },
  {
   "cell_type": "code",
   "execution_count": 17,
   "metadata": {},
   "outputs": [],
   "source": [
    "from sklearn.preprocessing import StandardScaler\n",
    "\n",
    "sc = StandardScaler()\n",
    "X_train = sc.fit_transform(X_train)\n",
    "X_test = sc.fit_transform(X_test)"
   ]
  },
  {
   "cell_type": "code",
   "execution_count": 18,
   "metadata": {},
   "outputs": [],
   "source": [
    "from sklearn.naive_bayes import GaussianNB\n",
    "from sklearn.neighbors import KNeighborsClassifier\n",
    "from sklearn.linear_model import LogisticRegression\n",
    "from sklearn.tree import DecisionTreeClassifier\n",
    "from sklearn.ensemble import RandomForestClassifier\n",
    "from sklearn.model_selection import KFold, cross_val_score"
   ]
  },
  {
   "cell_type": "code",
   "execution_count": 19,
   "metadata": {},
   "outputs": [],
   "source": [
    "from sklearn.ensemble import GradientBoostingClassifier,AdaBoostClassifier\n",
    "from sklearn.tree import DecisionTreeClassifier\n",
    "from xgboost import XGBClassifier\n",
    "from sklearn.ensemble import BaggingClassifier"
   ]
  },
  {
   "cell_type": "code",
   "execution_count": 20,
   "metadata": {},
   "outputs": [
    {
     "name": "stdout",
     "output_type": "stream",
     "text": [
      "Logistic Regression :\n",
      "\n",
      "Accuracy train =  0.9567039942511527\n",
      "Accuracy test =  0.9551488053653766\n",
      "Precision =  0.95797019960641\n",
      "Recall =  0.9967822144215299\n",
      "\n",
      "F1 Score =  0.9769908967099132\n",
      "Roc-Auc score =  0.531203607210765\n",
      "Confusion matrix: \n",
      "[[  21  299]\n",
      " [  22 6815]]\n",
      "\n",
      "               precision    recall  f1-score   support\n",
      "\n",
      "           0       0.49      0.07      0.12       320\n",
      "           1       0.96      1.00      0.98      6837\n",
      "\n",
      "    accuracy                           0.96      7157\n",
      "   macro avg       0.72      0.53      0.55      7157\n",
      "weighted avg       0.94      0.96      0.94      7157\n",
      "\n",
      "\n",
      "________\n",
      "____________________________________________________________________________________________\n",
      "Decision Tree :\n",
      "\n",
      "Accuracy train =  1.0\n",
      "Accuracy test =  0.9967863630012576\n",
      "Precision =  0.9989748096074985\n",
      "Recall =  0.9976597923065672\n",
      "\n",
      "F1 Score =  0.9983168679107208\n",
      "Roc-Auc score =  0.9878923961532835\n",
      "Confusion matrix: \n",
      "[[ 313    7]\n",
      " [  16 6821]]\n",
      "\n",
      "               precision    recall  f1-score   support\n",
      "\n",
      "           0       0.95      0.98      0.96       320\n",
      "           1       1.00      1.00      1.00      6837\n",
      "\n",
      "    accuracy                           1.00      7157\n",
      "   macro avg       0.98      0.99      0.98      7157\n",
      "weighted avg       1.00      1.00      1.00      7157\n",
      "\n",
      "\n",
      "________\n",
      "____________________________________________________________________________________________\n",
      "Random Forest :\n",
      "\n",
      "Accuracy train =  1.0\n",
      "Accuracy test =  0.991896045829258\n",
      "Precision =  0.9930181818181818\n",
      "Recall =  0.9985373701916045\n",
      "\n",
      "F1 Score =  0.9957701283547258\n",
      "Roc-Auc score =  0.9242686850958023\n",
      "Confusion matrix: \n",
      "[[ 272   48]\n",
      " [  10 6827]]\n",
      "\n",
      "               precision    recall  f1-score   support\n",
      "\n",
      "           0       0.96      0.85      0.90       320\n",
      "           1       0.99      1.00      1.00      6837\n",
      "\n",
      "    accuracy                           0.99      7157\n",
      "   macro avg       0.98      0.92      0.95      7157\n",
      "weighted avg       0.99      0.99      0.99      7157\n",
      "\n",
      "\n",
      "________\n",
      "____________________________________________________________________________________________\n",
      "Naive Bayes :\n",
      "\n",
      "Accuracy train =  0.9429307144140368\n",
      "Accuracy test =  0.9449490009780634\n",
      "Precision =  0.9592302209550962\n",
      "Recall =  0.9842035980693287\n",
      "\n",
      "F1 Score =  0.971556453941669\n",
      "Roc-Auc score =  0.5452267990346643\n",
      "Confusion matrix: \n",
      "[[  34  286]\n",
      " [ 108 6729]]\n",
      "\n",
      "               precision    recall  f1-score   support\n",
      "\n",
      "           0       0.24      0.11      0.15       320\n",
      "           1       0.96      0.98      0.97      6837\n",
      "\n",
      "    accuracy                           0.94      7157\n",
      "   macro avg       0.60      0.55      0.56      7157\n",
      "weighted avg       0.93      0.94      0.93      7157\n",
      "\n",
      "\n",
      "________\n",
      "____________________________________________________________________________________________\n",
      "K Nearest Neighbors :\n",
      "\n",
      "Accuracy train =  0.9669441283909216\n",
      "Accuracy test =  0.9585021657118905\n",
      "Precision =  0.9616036137775268\n",
      "Recall =  0.9963434254790112\n",
      "\n",
      "F1 Score =  0.9786653257668271\n",
      "Roc-Auc score =  0.5731717127395056\n",
      "Confusion matrix: \n",
      "[[  48  272]\n",
      " [  25 6812]]\n",
      "\n",
      "               precision    recall  f1-score   support\n",
      "\n",
      "           0       0.66      0.15      0.24       320\n",
      "           1       0.96      1.00      0.98      6837\n",
      "\n",
      "    accuracy                           0.96      7157\n",
      "   macro avg       0.81      0.57      0.61      7157\n",
      "weighted avg       0.95      0.96      0.95      7157\n",
      "\n",
      "\n",
      "________\n",
      "____________________________________________________________________________________________\n",
      "Ada Boost :\n",
      "\n",
      "Accuracy train =  1.0\n",
      "Accuracy test =  0.9839318150062876\n",
      "Precision =  0.9837363270005757\n",
      "Recall =  0.9997074740383209\n",
      "\n",
      "F1 Score =  0.9916575988393181\n",
      "Roc-Auc score =  0.8232912370191604\n",
      "Confusion matrix: \n",
      "[[ 207  113]\n",
      " [   2 6835]]\n",
      "\n",
      "               precision    recall  f1-score   support\n",
      "\n",
      "           0       0.99      0.65      0.78       320\n",
      "           1       0.98      1.00      0.99      6837\n",
      "\n",
      "    accuracy                           0.98      7157\n",
      "   macro avg       0.99      0.82      0.89      7157\n",
      "weighted avg       0.98      0.98      0.98      7157\n",
      "\n",
      "\n",
      "________\n",
      "____________________________________________________________________________________________\n",
      "XG Boost :\n",
      "\n",
      "Accuracy train =  1.0\n",
      "Accuracy test =  0.9990219365656001\n",
      "Precision =  0.9992690058479532\n",
      "Recall =  0.9997074740383209\n",
      "\n",
      "F1 Score =  0.999488191854939\n",
      "Roc-Auc score =  0.9920412370191605\n",
      "Confusion matrix: \n",
      "[[ 315    5]\n",
      " [   2 6835]]\n",
      "\n",
      "               precision    recall  f1-score   support\n",
      "\n",
      "           0       0.99      0.98      0.99       320\n",
      "           1       1.00      1.00      1.00      6837\n",
      "\n",
      "    accuracy                           1.00      7157\n",
      "   macro avg       1.00      0.99      0.99      7157\n",
      "weighted avg       1.00      1.00      1.00      7157\n",
      "\n",
      "\n",
      "________\n",
      "____________________________________________________________________________________________\n",
      "Gradient Boost :\n",
      "\n",
      "Accuracy train =  0.9999401161746212\n",
      "Accuracy test =  0.9981835964789716\n",
      "Precision =  0.9991222937390287\n",
      "Recall =  0.9989761591341232\n",
      "\n",
      "F1 Score =  0.9990492210926644\n",
      "Roc-Auc score =  0.9901130795670614\n",
      "Confusion matrix: \n",
      "[[ 314    6]\n",
      " [   7 6830]]\n",
      "\n",
      "               precision    recall  f1-score   support\n",
      "\n",
      "           0       0.98      0.98      0.98       320\n",
      "           1       1.00      1.00      1.00      6837\n",
      "\n",
      "    accuracy                           1.00      7157\n",
      "   macro avg       0.99      0.99      0.99      7157\n",
      "weighted avg       1.00      1.00      1.00      7157\n",
      "\n",
      "\n",
      "________\n",
      "____________________________________________________________________________________________\n",
      "Bagging :\n",
      "\n",
      "Accuracy train =  0.9994610455715911\n",
      "Accuracy test =  0.991197429090401\n",
      "Precision =  0.992153443766347\n",
      "Recall =  0.998683633172444\n",
      "\n",
      "F1 Score =  0.995407828558933\n",
      "Roc-Auc score =  0.914966816586222\n",
      "Confusion matrix: \n",
      "[[ 266   54]\n",
      " [   9 6828]]\n",
      "\n",
      "               precision    recall  f1-score   support\n",
      "\n",
      "           0       0.97      0.83      0.89       320\n",
      "           1       0.99      1.00      1.00      6837\n",
      "\n",
      "    accuracy                           0.99      7157\n",
      "   macro avg       0.98      0.91      0.94      7157\n",
      "weighted avg       0.99      0.99      0.99      7157\n",
      "\n",
      "\n",
      "________\n",
      "____________________________________________________________________________________________\n"
     ]
    }
   ],
   "source": [
    "from sklearn.metrics import accuracy_score, precision_score, recall_score, f1_score, roc_auc_score\n",
    "from sklearn.metrics import classification_report,confusion_matrix,auc,roc_curve\n",
    "\n",
    "\n",
    "algo = {'Logistic Regression':LogisticRegression(random_state=1),\n",
    "        'Decision Tree':DecisionTreeClassifier(random_state=1),\n",
    "        'Random Forest':RandomForestClassifier(n_estimators=100,random_state=1,n_jobs=-1),\n",
    "        'Naive Bayes': GaussianNB(),\n",
    "        'K Nearest Neighbors': KNeighborsClassifier(),\n",
    "        'Ada Boost':AdaBoostClassifier(base_estimator=RandomForestClassifier(random_state=1,n_jobs=-1),n_estimators=100,random_state=1),\n",
    "        'XG Boost':XGBClassifier(learning_rate=0.5,random_state=1,n_jobs=-1),\n",
    "        'Gradient Boost': GradientBoostingClassifier(learning_rate=0.5,random_state=1),\n",
    "        'Bagging':BaggingClassifier(base_estimator=RandomForestClassifier(random_state=1,n_jobs=-1),n_estimators=50,random_state=1)\n",
    "       }\n",
    "\n",
    "\n",
    "for k, v in algo.items():\n",
    "    model = v\n",
    "    model.fit(X_train, y_train)\n",
    "    y_pred = model.predict(X_test)\n",
    "    print(k,':\\n')\n",
    "    print(\"Accuracy train = \" , model.score(X_train,y_train))\n",
    "    print(\"Accuracy test = \" , accuracy_score(y_test,y_pred))\n",
    "    print(\"Precision = \" ,precision_score(y_test,y_pred))\n",
    "    print(\"Recall = \" ,recall_score(y_test,y_pred))\n",
    "    print('')\n",
    "    print(\"F1 Score = \" ,f1_score(y_test,y_pred))\n",
    "    print('Roc-Auc score = ',roc_auc_score(y_test,y_pred))\n",
    "    print('Confusion matrix: ')\n",
    "    print(confusion_matrix(y_test,y_pred))\n",
    "    print('\\n',classification_report(y_test,y_pred))\n",
    "    print('')\n",
    "    print('________')\n",
    "    print('____________________________________________________________________________________________')"
   ]
  },
  {
   "cell_type": "code",
   "execution_count": 21,
   "metadata": {},
   "outputs": [],
   "source": [
    "# Since our preference of valuation metric is recall score, we will consider hyperparameter tuning of those models which \n",
    "# gave the best overall recall score\n",
    "\n",
    "# Random Forest\n",
    "# KNN\n",
    "# AdaBoost\n",
    "# XGBoost\n",
    "# Gradientboost"
   ]
  },
  {
   "cell_type": "markdown",
   "metadata": {},
   "source": [
    "#### Gradient Boosting Classifier"
   ]
  },
  {
   "cell_type": "code",
   "execution_count": 22,
   "metadata": {},
   "outputs": [
    {
     "data": {
      "text/plain": [
       "GradientBoostingClassifier(criterion='friedman_mse', init=None,\n",
       "                           learning_rate=0.1, loss='deviance', max_depth=3,\n",
       "                           max_features=None, max_leaf_nodes=None,\n",
       "                           min_impurity_decrease=0.0, min_impurity_split=None,\n",
       "                           min_samples_leaf=1, min_samples_split=2,\n",
       "                           min_weight_fraction_leaf=0.0, n_estimators=100,\n",
       "                           n_iter_no_change=None, presort='auto',\n",
       "                           random_state=None, subsample=1.0, tol=0.0001,\n",
       "                           validation_fraction=0.1, verbose=0,\n",
       "                           warm_start=False)"
      ]
     },
     "execution_count": 22,
     "metadata": {},
     "output_type": "execute_result"
    }
   ],
   "source": [
    "model = GradientBoostingClassifier()\n",
    "model.fit(X_train,y_train)"
   ]
  },
  {
   "cell_type": "code",
   "execution_count": null,
   "metadata": {},
   "outputs": [],
   "source": [
    "from sklearn.metrics import mean_"
   ]
  },
  {
   "cell_type": "code",
   "execution_count": 23,
   "metadata": {},
   "outputs": [
    {
     "data": {
      "text/plain": [
       "GridSearchCV(cv='warn', error_score='raise-deprecating',\n",
       "             estimator=GradientBoostingClassifier(criterion='friedman_mse',\n",
       "                                                  init=None, learning_rate=0.1,\n",
       "                                                  loss='deviance', max_depth=3,\n",
       "                                                  max_features=None,\n",
       "                                                  max_leaf_nodes=None,\n",
       "                                                  min_impurity_decrease=0.0,\n",
       "                                                  min_impurity_split=None,\n",
       "                                                  min_samples_leaf=1,\n",
       "                                                  min_samples_split=2,\n",
       "                                                  min_weight_fraction_leaf=0.0,\n",
       "                                                  n_estimators=100,\n",
       "                                                  n_iter_no_change=None,\n",
       "                                                  presort='auto',\n",
       "                                                  random_state=None,\n",
       "                                                  subsample=1.0, tol=0.0001,\n",
       "                                                  validation_fraction=0.1,\n",
       "                                                  verbose=0, warm_start=False),\n",
       "             iid='warn', n_jobs=None,\n",
       "             param_grid={'learning_rate': [0.1, 0.01], 'max_depth': [3, 5, 7],\n",
       "                         'n_estimators': [50, 100, 300]},\n",
       "             pre_dispatch='2*n_jobs', refit=True, return_train_score=False,\n",
       "             scoring=None, verbose=0)"
      ]
     },
     "execution_count": 23,
     "metadata": {},
     "output_type": "execute_result"
    }
   ],
   "source": [
    "from sklearn.ensemble import GradientBoostingClassifier\n",
    "from sklearn.model_selection import GridSearchCV\n",
    "\n",
    "params = {'learning_rate':[0.1,0.01] , 'n_estimators':[50,100,300], 'max_depth':[3,5,7]}\n",
    "\n",
    "gcv = GridSearchCV(estimator = GradientBoostingClassifier(), param_grid = params)\n",
    "gcv.fit(X_train, y_train)"
   ]
  },
  {
   "cell_type": "code",
   "execution_count": 24,
   "metadata": {},
   "outputs": [
    {
     "data": {
      "text/plain": [
       "GradientBoostingClassifier(criterion='friedman_mse', init=None,\n",
       "                           learning_rate=0.1, loss='deviance', max_depth=3,\n",
       "                           max_features=None, max_leaf_nodes=None,\n",
       "                           min_impurity_decrease=0.0, min_impurity_split=None,\n",
       "                           min_samples_leaf=1, min_samples_split=2,\n",
       "                           min_weight_fraction_leaf=0.0, n_estimators=300,\n",
       "                           n_iter_no_change=None, presort='auto',\n",
       "                           random_state=None, subsample=1.0, tol=0.0001,\n",
       "                           validation_fraction=0.1, verbose=0,\n",
       "                           warm_start=False)"
      ]
     },
     "execution_count": 24,
     "metadata": {},
     "output_type": "execute_result"
    }
   ],
   "source": [
    "gcv.best_estimator_"
   ]
  },
  {
   "cell_type": "code",
   "execution_count": 25,
   "metadata": {},
   "outputs": [],
   "source": [
    "gcv = gcv.best_estimator_"
   ]
  },
  {
   "cell_type": "code",
   "execution_count": 26,
   "metadata": {},
   "outputs": [
    {
     "data": {
      "text/plain": [
       "0.9998537370191605"
      ]
     },
     "execution_count": 26,
     "metadata": {},
     "output_type": "execute_result"
    }
   ],
   "source": [
    "y_pred = gcv.predict(X_test)\n",
    "\n",
    "recall_score(y_test,y_pred)"
   ]
  },
  {
   "cell_type": "code",
   "execution_count": 27,
   "metadata": {},
   "outputs": [
    {
     "data": {
      "text/plain": [
       "0.9968018685095803"
      ]
     },
     "execution_count": 27,
     "metadata": {},
     "output_type": "execute_result"
    }
   ],
   "source": [
    "roc_auc_score(y_test,y_pred)"
   ]
  },
  {
   "cell_type": "code",
   "execution_count": 28,
   "metadata": {},
   "outputs": [],
   "source": [
    "def plot_precision_recall_vs_threshold(precisions, recalls, thresholds):\n",
    "\n",
    "    plt.figure(figsize=(8, 8))\n",
    "    plt.title(\"Precision and Recall Scores as a function of the decision threshold\")\n",
    "    plt.plot(thresholds, precisions[:-1], \"b--\", label=\"Precision\")\n",
    "    plt.plot(thresholds, recalls[:-1], \"g-\", label=\"Recall\")\n",
    "    plt.ylabel(\"Score\")\n",
    "    plt.xlabel(\"Decision Threshold\")\n",
    "    plt.legend(loc='best')"
   ]
  },
  {
   "cell_type": "code",
   "execution_count": 29,
   "metadata": {},
   "outputs": [],
   "source": [
    "from sklearn.metrics import precision_recall_curve\n",
    "\n",
    "p, r, thresholds = precision_recall_curve(y_pred, y_test)"
   ]
  },
  {
   "cell_type": "code",
   "execution_count": 30,
   "metadata": {},
   "outputs": [
    {
     "data": {
      "image/png": "[encoded data removed]",
      "text/plain": [
       "<Figure size 576x576 with 1 Axes>"
      ]
     },
     "metadata": {
      "needs_background": "light"
     },
     "output_type": "display_data"
    }
   ],
   "source": [
    "# use the same p, r, thresholds that were previously calculated\n",
    "plot_precision_recall_vs_threshold(p, r, thresholds)"
   ]
  },
  {
   "cell_type": "code",
   "execution_count": 31,
   "metadata": {},
   "outputs": [],
   "source": [
    "y_valid = gcv.predict(X_valid)"
   ]
  },
  {
   "cell_type": "markdown",
   "metadata": {},
   "source": [
    "##### XGBClassifier"
   ]
  },
  {
   "cell_type": "code",
   "execution_count": 32,
   "metadata": {},
   "outputs": [],
   "source": [
    "from sklearn.metrics import make_scorer"
   ]
  },
  {
   "cell_type": "code",
   "execution_count": 33,
   "metadata": {},
   "outputs": [],
   "source": [
    "xgb = XGBClassifier()\n",
    "scorers = {'recall_score': make_scorer(recall_score), 'precision': make_scorer(precision_score)}\n",
    "params = {'max_depth':[3,5,7,9],'learning_rate':[0.1,0.01,0.05,0.2],'n_estimators':[100,300,400,500]}\n",
    "\n",
    "xgcv = GridSearchCV(estimator = XGBClassifier(), param_grid=params, n_jobs=-1,scoring=scorers)"
   ]
  },
  {
   "cell_type": "code",
   "execution_count": 34,
   "metadata": {},
   "outputs": [],
   "source": [
    "# tuning gamma, min_child_weight and colsamplr_bytree is taking up too much time even for 2 values for each."
   ]
  },
  {
   "cell_type": "code",
   "execution_count": 35,
   "metadata": {},
   "outputs": [],
   "source": [
    "xgb = XGBClassifier()\n",
    "scorers = {'recall_score': make_scorer(recall_score)}\n",
    "params = {'max_depth':[3,7,9],'learning_rate':[0.1,0.2,0.5],'n_estimators':[100,300,500]}\n",
    "\n",
    "xgcv = GridSearchCV(estimator = XGBClassifier(), param_grid=params, n_jobs=-1)"
   ]
  },
  {
   "cell_type": "code",
   "execution_count": 36,
   "metadata": {},
   "outputs": [
    {
     "data": {
      "text/plain": [
       "GridSearchCV(cv='warn', error_score='raise-deprecating',\n",
       "             estimator=XGBClassifier(base_score=0.5, booster='gbtree',\n",
       "                                     colsample_bylevel=1, colsample_bynode=1,\n",
       "                                     colsample_bytree=1, gamma=0,\n",
       "                                     learning_rate=0.1, max_delta_step=0,\n",
       "                                     max_depth=3, min_child_weight=1,\n",
       "                                     missing=None, n_estimators=100, n_jobs=1,\n",
       "                                     nthread=None, objective='binary:logistic',\n",
       "                                     random_state=0, reg_alpha=0, reg_lambda=1,\n",
       "                                     scale_pos_weight=1, seed=None, silent=None,\n",
       "                                     subsample=1, verbosity=1),\n",
       "             iid='warn', n_jobs=-1,\n",
       "             param_grid={'learning_rate': [0.1, 0.2, 0.5],\n",
       "                         'max_depth': [3, 7, 9],\n",
       "                         'n_estimators': [100, 300, 500]},\n",
       "             pre_dispatch='2*n_jobs', refit=True, return_train_score=False,\n",
       "             scoring=None, verbose=0)"
      ]
     },
     "execution_count": 36,
     "metadata": {},
     "output_type": "execute_result"
    }
   ],
   "source": [
    "xgcv.fit(X_train,y_train)"
   ]
  },
  {
   "cell_type": "code",
   "execution_count": 37,
   "metadata": {},
   "outputs": [],
   "source": [
    "xgcv = xgcv.best_estimator_"
   ]
  },
  {
   "cell_type": "code",
   "execution_count": 38,
   "metadata": {},
   "outputs": [
    {
     "data": {
      "text/plain": [
       "XGBClassifier(base_score=0.5, booster='gbtree', colsample_bylevel=1,\n",
       "              colsample_bynode=1, colsample_bytree=1, gamma=0,\n",
       "              learning_rate=0.5, max_delta_step=0, max_depth=3,\n",
       "              min_child_weight=1, missing=None, n_estimators=100, n_jobs=1,\n",
       "              nthread=None, objective='binary:logistic', random_state=0,\n",
       "              reg_alpha=0, reg_lambda=1, scale_pos_weight=1, seed=None,\n",
       "              silent=None, subsample=1, verbosity=1)"
      ]
     },
     "execution_count": 38,
     "metadata": {},
     "output_type": "execute_result"
    }
   ],
   "source": [
    "xgcv"
   ]
  },
  {
   "cell_type": "code",
   "execution_count": 39,
   "metadata": {},
   "outputs": [
    {
     "data": {
      "text/plain": [
       "0.9997074740383209"
      ]
     },
     "execution_count": 39,
     "metadata": {},
     "output_type": "execute_result"
    }
   ],
   "source": [
    "y_pred = xgcv.predict(X_test)\n",
    "\n",
    "recall_score(y_test,y_pred)"
   ]
  },
  {
   "cell_type": "code",
   "execution_count": 40,
   "metadata": {},
   "outputs": [
    {
     "data": {
      "text/plain": [
       "0.9920412370191605"
      ]
     },
     "execution_count": 40,
     "metadata": {},
     "output_type": "execute_result"
    }
   ],
   "source": [
    "roc_auc_score(y_test,y_pred)"
   ]
  },
  {
   "cell_type": "code",
   "execution_count": 41,
   "metadata": {},
   "outputs": [],
   "source": [
    "y_valid = model.predict(X_valid)"
   ]
  },
  {
   "cell_type": "code",
   "execution_count": 42,
   "metadata": {},
   "outputs": [],
   "source": [
    "submission = pd.DataFrame({'INCIDENT_ID':idd['INCIDENT_ID'], 'MULTIPLE_OFFENSE':y_valid})"
   ]
  },
  {
   "cell_type": "code",
   "execution_count": 43,
   "metadata": {},
   "outputs": [],
   "source": [
    "submission.to_csv('bestgcvpostscalling.csv', index=False)"
   ]
  },
  {
   "cell_type": "code",
   "execution_count": null,
   "metadata": {},
   "outputs": [],
   "source": []
  }
 ],
 "metadata": {
  "kernelspec": {
   "display_name": "Python 3",
   "language": "python",
   "name": "python3"
  },
  "language_info": {
   "codemirror_mode": {
    "name": "ipython",
    "version": 3
   },
   "file_extension": ".py",
   "mimetype": "text/x-python",
   "name": "python",
   "nbconvert_exporter": "python",
   "pygments_lexer": "ipython3",
   "version": "3.7.3"
  }
 },
 "nbformat": 4,
 "nbformat_minor": 2
}
